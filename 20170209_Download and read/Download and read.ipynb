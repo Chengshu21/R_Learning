{
 "cells": [
  {
   "cell_type": "markdown",
   "metadata": {},
   "source": [
    "## 1. Read irefindex files into R\n",
    "\n",
    "#### 1.1 Download data from [irefindex](http://irefindex.org/download/irefindex/data/archive/)\n",
    "#### 1.2 Read data by `read.table()` or `fread()`\n",
    "\n",
    "\n",
    "[iRefIndex](http://irefindex.org/wiki/index.php?title=iRefIndex)"
   ]
  },
  {
   "cell_type": "code",
   "execution_count": null,
   "metadata": {},
   "outputs": [],
   "source": [
    "irefdb <- read.table(\"~/iRefIndex/All.mitab.01-22-2018.txt\", head = TRUE, sep = \"\\t\")\n",
    "library(data.table)\n",
    "rt <- fread(\"~/iRefIndex/All.mitab.01-22-2018.txt\")\n",
    "str(rt)\n",
    "class(rt)\n",
    "head(rt)"
   ]
  },
  {
   "cell_type": "markdown",
   "metadata": {},
   "source": [
    "## 2. Read 4DGenome files into R\n",
    "\n",
    "[4DGenome](https://4dgenome.research.chop.edu/)"
   ]
  },
  {
   "cell_type": "code",
   "execution_count": null,
   "metadata": {},
   "outputs": [],
   "source": [
    "# Download the databases file from the internet\n",
    "url = \"https://4dgenome.research.chop.edu/Tables/4DGenome_full.txt\"\n",
    "datafolder = setwd(\"~/4DGenome/\")\n",
    "zipfile = paste(datafolder, \"_full.txt.zip\", sep = \"\")\n",
    "download.file(url, destfile = zipfile)\n",
    "unzip(zipfile, exdir = datafolder)\n",
    "file.remove(zipfile)\n",
    "\n",
    "# because I cannot run the codes well, so I download the file in the Internet into a folder.\n",
    "# And then I can read it.\n",
    "\n",
    "rt <- read.table(\"~/4DGenome/4DGenome_full.txt\", head = TRUE, sep = \"\\t\")\n",
    "str(rt)    # there is a 'Cell.Tissue' existed.\n",
    "\n",
    "write.csv(rt_fdg, \"~/4DGenome/4DGenome.csv\")   #write a new file to make a copy.\n",
    "rt_fdg$Cell.Tissue\n",
    "head(rt_fdg)\n",
    "\n",
    "rt_fdg <- read.csv(\"~/4DGenome/4DGenome.csv\", head = TRUE, sep = \",\")\n",
    "str(rt_fdg)\n",
    "rt_fdg1 <- rt_fdg[, c(11, 12)]   # extract the 'Cell.Tissue' and 'Detection_Method' columns\n",
    "\n",
    "# select the columns that we want by using 'subset'\n",
    "rt_fdg2 <- subset(rt_fdg1, Detection_Method %in% c(\"4C\", \"5C\", \"Capture-C\", \"ChIA-PET\", \"Hi-C\", \"IM-PET\"))\n",
    "write.csv(rt_fdg2, \"~/4DGenome/4dgselect.csv\")     # write out to check the results.\n"
   ]
  },
  {
   "cell_type": "markdown",
   "metadata": {},
   "source": [
    "## 3. Read gencode files into R\n",
    "\n",
    "[GENCODE](https://www.gencodegenes.org/)"
   ]
  },
  {
   "cell_type": "code",
   "execution_count": null,
   "metadata": {},
   "outputs": [],
   "source": [
    "library(R.utils)\n",
    "library(refGenome)\n",
    "setwd(\"~/genecode\")\n",
    "getwd()\n",
    "gunzip(\"~/genecode/gencode.v27.annotation.gff3.gz\", remove = FALSE)\n",
    "\n",
    "# cannot work  \n",
    "# ens <- ensemblGenome()\n",
    "# rt <- read.gtf(ens, \"E:/genecode/gencode.v27.annotation.gtf\")\n",
    "\n",
    "require(data.table)\n",
    "info <- fread(\"~/genecode/gencode.v27.annotation.gtf\")\n",
    "head(info)\n",
    "str(info)\n",
    "info$V3\n",
    "unique(info$V3)\n",
    "info$V9\n",
    "??grep\n",
    "grep(\"lncRNA\",info$V9)\n",
    "info$V9[2536469]\n",
    "grep(\"miRNA\",info$V9)\n",
    "info$V9[2609348]\n"
   ]
  },
  {
   "cell_type": "markdown",
   "metadata": {},
   "source": [
    "## 4. Read TF human data into R\n",
    "\n",
    "[Cistrome_Project](http://cistrome.org/Cistrome/Cistrome_Project.html)\n"
   ]
  },
  {
   "cell_type": "code",
   "execution_count": null,
   "metadata": {},
   "outputs": [],
   "source": [
    "cstr_rt <- read.table(\"D:/Cistrome/TF_human_data_information.txt\", head = TRUE, sep = \"\\t\")\n",
    "str(cstr_rt)    \n",
    "head(cstr_rt)\n",
    "\n",
    "write.csv(cstr_rt, \"D:/Cistrome/TF_human_data_information.csv\")   #write a new file to make a copy.\n",
    "\n",
    "cstr_rt1 <- read.csv(\"D:/Cistrome/TF_human_data_information.csv\", head = TRUE, sep = \",\")\n",
    "str(cstr_rt1)\n",
    "head(cstr_rt1)"
   ]
  }
 ],
 "metadata": {
  "kernelspec": {
   "display_name": "R 3.6.0",
   "language": "R",
   "name": "ir353"
  },
  "language_info": {
   "codemirror_mode": "r",
   "file_extension": ".r",
   "mimetype": "text/x-r-source",
   "name": "R",
   "pygments_lexer": "r",
   "version": "3.6.0"
  }
 },
 "nbformat": 4,
 "nbformat_minor": 2
}
