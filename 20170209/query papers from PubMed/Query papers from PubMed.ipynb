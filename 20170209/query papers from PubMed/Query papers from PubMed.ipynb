{
 "cells": [
  {
   "cell_type": "markdown",
   "metadata": {},
   "source": [
    "#  Find papers in PubMed"
   ]
  },
  {
   "cell_type": "code",
   "execution_count": null,
   "metadata": {},
   "outputs": [],
   "source": [
    "library(RISmed)\n",
    "morapro <- EUtilsSummary(\"Mora, Antonio[Full Author Name]\", type=\"esearch\", db=\"pubmed\")\n",
    "class(morapro)\n",
    "str(morapro)\n",
    "title <- ArticleTitle(EUtilsGet(morapro))\n",
    "title\n",
    "\n",
    "# find papers about \"transcription factories\", authors are either Peter Cook or Peter Fraser\n",
    "\n",
    "tfpeter <- EUtilsSummary(\"(transcription factors[all fields]) AND (Peter Cook[author] OR Peter Fraser[author])\", type=\"esearch\", db=\"pubmed\")\n",
    "class(tfpeter)\n",
    "str(tfpeter)"
   ]
  }
 ],
 "metadata": {
  "kernelspec": {
   "display_name": "R 3.6.0",
   "language": "R",
   "name": "ir353"
  },
  "language_info": {
   "codemirror_mode": "r",
   "file_extension": ".r",
   "mimetype": "text/x-r-source",
   "name": "R",
   "pygments_lexer": "r",
   "version": "3.6.0"
  }
 },
 "nbformat": 4,
 "nbformat_minor": 2
}
