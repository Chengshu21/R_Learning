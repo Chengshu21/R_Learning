{
 "cells": [
  {
   "cell_type": "markdown",
   "metadata": {},
   "source": [
    "## 1. Load packages"
   ]
  },
  {
   "cell_type": "code",
   "execution_count": 2,
   "metadata": {},
   "outputs": [],
   "source": [
    "library(org.Hs.eg.db)"
   ]
  },
  {
   "cell_type": "code",
   "execution_count": 4,
   "metadata": {},
   "outputs": [
    {
     "data": {
      "text/html": [
       "<ol class=list-inline>\n",
       "\t<li>'org.Hs.eg'</li>\n",
       "\t<li>'org.Hs.eg.db'</li>\n",
       "\t<li>'org.Hs.eg_dbconn'</li>\n",
       "\t<li>'org.Hs.eg_dbfile'</li>\n",
       "\t<li>'org.Hs.eg_dbInfo'</li>\n",
       "\t<li>'org.Hs.eg_dbschema'</li>\n",
       "\t<li>'org.Hs.egACCNUM'</li>\n",
       "\t<li>'org.Hs.egACCNUM2EG'</li>\n",
       "\t<li>'org.Hs.egALIAS2EG'</li>\n",
       "\t<li>'org.Hs.egCHR'</li>\n",
       "\t<li>'org.Hs.egCHRLENGTHS'</li>\n",
       "\t<li>'org.Hs.egCHRLOC'</li>\n",
       "\t<li>'org.Hs.egCHRLOCEND'</li>\n",
       "\t<li>'org.Hs.egENSEMBL'</li>\n",
       "\t<li>'org.Hs.egENSEMBL2EG'</li>\n",
       "\t<li>'org.Hs.egENSEMBLPROT'</li>\n",
       "\t<li>'org.Hs.egENSEMBLPROT2EG'</li>\n",
       "\t<li>'org.Hs.egENSEMBLTRANS'</li>\n",
       "\t<li>'org.Hs.egENSEMBLTRANS2EG'</li>\n",
       "\t<li>'org.Hs.egENZYME'</li>\n",
       "\t<li>'org.Hs.egENZYME2EG'</li>\n",
       "\t<li>'org.Hs.egGENENAME'</li>\n",
       "\t<li>'org.Hs.egGO'</li>\n",
       "\t<li>'org.Hs.egGO2ALLEGS'</li>\n",
       "\t<li>'org.Hs.egGO2EG'</li>\n",
       "\t<li>'org.Hs.egMAP'</li>\n",
       "\t<li>'org.Hs.egMAP2EG'</li>\n",
       "\t<li>'org.Hs.egMAPCOUNTS'</li>\n",
       "\t<li>'org.Hs.egOMIM'</li>\n",
       "\t<li>'org.Hs.egOMIM2EG'</li>\n",
       "\t<li>'org.Hs.egORGANISM'</li>\n",
       "\t<li>'org.Hs.egPATH'</li>\n",
       "\t<li>'org.Hs.egPATH2EG'</li>\n",
       "\t<li>'org.Hs.egPFAM'</li>\n",
       "\t<li>'org.Hs.egPMID'</li>\n",
       "\t<li>'org.Hs.egPMID2EG'</li>\n",
       "\t<li>'org.Hs.egPROSITE'</li>\n",
       "\t<li>'org.Hs.egREFSEQ'</li>\n",
       "\t<li>'org.Hs.egREFSEQ2EG'</li>\n",
       "\t<li>'org.Hs.egSYMBOL'</li>\n",
       "\t<li>'org.Hs.egSYMBOL2EG'</li>\n",
       "\t<li>'org.Hs.egUCSCKG'</li>\n",
       "\t<li>'org.Hs.egUNIGENE'</li>\n",
       "\t<li>'org.Hs.egUNIGENE2EG'</li>\n",
       "\t<li>'org.Hs.egUNIPROT'</li>\n",
       "</ol>\n"
      ],
      "text/latex": [
       "\\begin{enumerate*}\n",
       "\\item 'org.Hs.eg'\n",
       "\\item 'org.Hs.eg.db'\n",
       "\\item 'org.Hs.eg\\_dbconn'\n",
       "\\item 'org.Hs.eg\\_dbfile'\n",
       "\\item 'org.Hs.eg\\_dbInfo'\n",
       "\\item 'org.Hs.eg\\_dbschema'\n",
       "\\item 'org.Hs.egACCNUM'\n",
       "\\item 'org.Hs.egACCNUM2EG'\n",
       "\\item 'org.Hs.egALIAS2EG'\n",
       "\\item 'org.Hs.egCHR'\n",
       "\\item 'org.Hs.egCHRLENGTHS'\n",
       "\\item 'org.Hs.egCHRLOC'\n",
       "\\item 'org.Hs.egCHRLOCEND'\n",
       "\\item 'org.Hs.egENSEMBL'\n",
       "\\item 'org.Hs.egENSEMBL2EG'\n",
       "\\item 'org.Hs.egENSEMBLPROT'\n",
       "\\item 'org.Hs.egENSEMBLPROT2EG'\n",
       "\\item 'org.Hs.egENSEMBLTRANS'\n",
       "\\item 'org.Hs.egENSEMBLTRANS2EG'\n",
       "\\item 'org.Hs.egENZYME'\n",
       "\\item 'org.Hs.egENZYME2EG'\n",
       "\\item 'org.Hs.egGENENAME'\n",
       "\\item 'org.Hs.egGO'\n",
       "\\item 'org.Hs.egGO2ALLEGS'\n",
       "\\item 'org.Hs.egGO2EG'\n",
       "\\item 'org.Hs.egMAP'\n",
       "\\item 'org.Hs.egMAP2EG'\n",
       "\\item 'org.Hs.egMAPCOUNTS'\n",
       "\\item 'org.Hs.egOMIM'\n",
       "\\item 'org.Hs.egOMIM2EG'\n",
       "\\item 'org.Hs.egORGANISM'\n",
       "\\item 'org.Hs.egPATH'\n",
       "\\item 'org.Hs.egPATH2EG'\n",
       "\\item 'org.Hs.egPFAM'\n",
       "\\item 'org.Hs.egPMID'\n",
       "\\item 'org.Hs.egPMID2EG'\n",
       "\\item 'org.Hs.egPROSITE'\n",
       "\\item 'org.Hs.egREFSEQ'\n",
       "\\item 'org.Hs.egREFSEQ2EG'\n",
       "\\item 'org.Hs.egSYMBOL'\n",
       "\\item 'org.Hs.egSYMBOL2EG'\n",
       "\\item 'org.Hs.egUCSCKG'\n",
       "\\item 'org.Hs.egUNIGENE'\n",
       "\\item 'org.Hs.egUNIGENE2EG'\n",
       "\\item 'org.Hs.egUNIPROT'\n",
       "\\end{enumerate*}\n"
      ],
      "text/markdown": [
       "1. 'org.Hs.eg'\n",
       "2. 'org.Hs.eg.db'\n",
       "3. 'org.Hs.eg_dbconn'\n",
       "4. 'org.Hs.eg_dbfile'\n",
       "5. 'org.Hs.eg_dbInfo'\n",
       "6. 'org.Hs.eg_dbschema'\n",
       "7. 'org.Hs.egACCNUM'\n",
       "8. 'org.Hs.egACCNUM2EG'\n",
       "9. 'org.Hs.egALIAS2EG'\n",
       "10. 'org.Hs.egCHR'\n",
       "11. 'org.Hs.egCHRLENGTHS'\n",
       "12. 'org.Hs.egCHRLOC'\n",
       "13. 'org.Hs.egCHRLOCEND'\n",
       "14. 'org.Hs.egENSEMBL'\n",
       "15. 'org.Hs.egENSEMBL2EG'\n",
       "16. 'org.Hs.egENSEMBLPROT'\n",
       "17. 'org.Hs.egENSEMBLPROT2EG'\n",
       "18. 'org.Hs.egENSEMBLTRANS'\n",
       "19. 'org.Hs.egENSEMBLTRANS2EG'\n",
       "20. 'org.Hs.egENZYME'\n",
       "21. 'org.Hs.egENZYME2EG'\n",
       "22. 'org.Hs.egGENENAME'\n",
       "23. 'org.Hs.egGO'\n",
       "24. 'org.Hs.egGO2ALLEGS'\n",
       "25. 'org.Hs.egGO2EG'\n",
       "26. 'org.Hs.egMAP'\n",
       "27. 'org.Hs.egMAP2EG'\n",
       "28. 'org.Hs.egMAPCOUNTS'\n",
       "29. 'org.Hs.egOMIM'\n",
       "30. 'org.Hs.egOMIM2EG'\n",
       "31. 'org.Hs.egORGANISM'\n",
       "32. 'org.Hs.egPATH'\n",
       "33. 'org.Hs.egPATH2EG'\n",
       "34. 'org.Hs.egPFAM'\n",
       "35. 'org.Hs.egPMID'\n",
       "36. 'org.Hs.egPMID2EG'\n",
       "37. 'org.Hs.egPROSITE'\n",
       "38. 'org.Hs.egREFSEQ'\n",
       "39. 'org.Hs.egREFSEQ2EG'\n",
       "40. 'org.Hs.egSYMBOL'\n",
       "41. 'org.Hs.egSYMBOL2EG'\n",
       "42. 'org.Hs.egUCSCKG'\n",
       "43. 'org.Hs.egUNIGENE'\n",
       "44. 'org.Hs.egUNIGENE2EG'\n",
       "45. 'org.Hs.egUNIPROT'\n",
       "\n",
       "\n"
      ],
      "text/plain": [
       " [1] \"org.Hs.eg\"                \"org.Hs.eg.db\"            \n",
       " [3] \"org.Hs.eg_dbconn\"         \"org.Hs.eg_dbfile\"        \n",
       " [5] \"org.Hs.eg_dbInfo\"         \"org.Hs.eg_dbschema\"      \n",
       " [7] \"org.Hs.egACCNUM\"          \"org.Hs.egACCNUM2EG\"      \n",
       " [9] \"org.Hs.egALIAS2EG\"        \"org.Hs.egCHR\"            \n",
       "[11] \"org.Hs.egCHRLENGTHS\"      \"org.Hs.egCHRLOC\"         \n",
       "[13] \"org.Hs.egCHRLOCEND\"       \"org.Hs.egENSEMBL\"        \n",
       "[15] \"org.Hs.egENSEMBL2EG\"      \"org.Hs.egENSEMBLPROT\"    \n",
       "[17] \"org.Hs.egENSEMBLPROT2EG\"  \"org.Hs.egENSEMBLTRANS\"   \n",
       "[19] \"org.Hs.egENSEMBLTRANS2EG\" \"org.Hs.egENZYME\"         \n",
       "[21] \"org.Hs.egENZYME2EG\"       \"org.Hs.egGENENAME\"       \n",
       "[23] \"org.Hs.egGO\"              \"org.Hs.egGO2ALLEGS\"      \n",
       "[25] \"org.Hs.egGO2EG\"           \"org.Hs.egMAP\"            \n",
       "[27] \"org.Hs.egMAP2EG\"          \"org.Hs.egMAPCOUNTS\"      \n",
       "[29] \"org.Hs.egOMIM\"            \"org.Hs.egOMIM2EG\"        \n",
       "[31] \"org.Hs.egORGANISM\"        \"org.Hs.egPATH\"           \n",
       "[33] \"org.Hs.egPATH2EG\"         \"org.Hs.egPFAM\"           \n",
       "[35] \"org.Hs.egPMID\"            \"org.Hs.egPMID2EG\"        \n",
       "[37] \"org.Hs.egPROSITE\"         \"org.Hs.egREFSEQ\"         \n",
       "[39] \"org.Hs.egREFSEQ2EG\"       \"org.Hs.egSYMBOL\"         \n",
       "[41] \"org.Hs.egSYMBOL2EG\"       \"org.Hs.egUCSCKG\"         \n",
       "[43] \"org.Hs.egUNIGENE\"         \"org.Hs.egUNIGENE2EG\"     \n",
       "[45] \"org.Hs.egUNIPROT\"        "
      ]
     },
     "metadata": {},
     "output_type": "display_data"
    }
   ],
   "source": [
    "# check the package\n",
    "ls(\"package:org.Hs.eg.db\")"
   ]
  },
  {
   "cell_type": "markdown",
   "metadata": {},
   "source": [
    "## 2. Get the entrezgene ID from the gene \n",
    "\n",
    "Take `SPOP` as an example:"
   ]
  },
  {
   "cell_type": "code",
   "execution_count": 3,
   "metadata": {},
   "outputs": [
    {
     "data": {
      "text/html": [
       "<strong>$SPOP</strong> = '8405'"
      ],
      "text/latex": [
       "\\textbf{\\$SPOP} = '8405'"
      ],
      "text/markdown": [
       "**$SPOP** = '8405'"
      ],
      "text/plain": [
       "$SPOP\n",
       "[1] \"8405\"\n"
      ]
     },
     "metadata": {},
     "output_type": "display_data"
    }
   ],
   "source": [
    "mygene <- mget(\"SPOP\", org.Hs.egSYMBOL2EG)\n",
    "mygene"
   ]
  },
  {
   "cell_type": "markdown",
   "metadata": {},
   "source": [
    "## 3. Get the ENSEMBL ID from the  entrezgene ID\n",
    "\n",
    "Take `8405` as an example:"
   ]
  },
  {
   "cell_type": "code",
   "execution_count": 7,
   "metadata": {},
   "outputs": [
    {
     "data": {
      "text/html": [
       "<strong>$`8405`</strong> = 'ENSG00000121067'"
      ],
      "text/latex": [
       "\\textbf{\\$`8405`} = 'ENSG00000121067'"
      ],
      "text/markdown": [
       "**$`8405`** = 'ENSG00000121067'"
      ],
      "text/plain": [
       "$`8405`\n",
       "[1] \"ENSG00000121067\"\n"
      ]
     },
     "metadata": {},
     "output_type": "display_data"
    }
   ],
   "source": [
    "# get the gene symbol from the ENSEMBL ID \n",
    "mygene <- mget(\"8405\", org.Hs.egENSEMBL)\n",
    "mygene"
   ]
  },
  {
   "cell_type": "markdown",
   "metadata": {},
   "source": [
    "## 4. Get the GO annotation by using the IDs\n",
    "\n",
    "Using `biomaRt`:"
   ]
  },
  {
   "cell_type": "code",
   "execution_count": 9,
   "metadata": {},
   "outputs": [
    {
     "data": {
      "text/plain": [
       "Object of class 'Mart':\n",
       "  Using the ENSEMBL_MART_ENSEMBL BioMart database\n",
       "  Using the hsapiens_gene_ensembl dataset"
      ]
     },
     "metadata": {},
     "output_type": "display_data"
    },
    {
     "data": {
      "text/html": [
       "<table>\n",
       "<caption>A data.frame: 12 × 3</caption>\n",
       "<thead>\n",
       "\t<tr><th scope=col>entrezgene</th><th scope=col>go_id</th><th scope=col>hgnc_symbol</th></tr>\n",
       "\t<tr><th scope=col>&lt;int&gt;</th><th scope=col>&lt;chr&gt;</th><th scope=col>&lt;chr&gt;</th></tr>\n",
       "</thead>\n",
       "<tbody>\n",
       "\t<tr><td>8405</td><td>GO:0005515</td><td>SPOP</td></tr>\n",
       "\t<tr><td>8405</td><td>GO:0005634</td><td>SPOP</td></tr>\n",
       "\t<tr><td>8405</td><td>GO:0016607</td><td>SPOP</td></tr>\n",
       "\t<tr><td>8405</td><td>GO:0016567</td><td>SPOP</td></tr>\n",
       "\t<tr><td>8405</td><td>GO:0005737</td><td>SPOP</td></tr>\n",
       "\t<tr><td>8405</td><td>GO:0031625</td><td>SPOP</td></tr>\n",
       "\t<tr><td>8405</td><td>GO:0006511</td><td>SPOP</td></tr>\n",
       "\t<tr><td>8405</td><td>GO:0005654</td><td>SPOP</td></tr>\n",
       "\t<tr><td>8405</td><td>GO:0043161</td><td>SPOP</td></tr>\n",
       "\t<tr><td>8405</td><td>GO:0031463</td><td>SPOP</td></tr>\n",
       "\t<tr><td>8405</td><td>GO:0030162</td><td>SPOP</td></tr>\n",
       "\t<tr><td>8405</td><td>          </td><td>SPOP</td></tr>\n",
       "</tbody>\n",
       "</table>\n"
      ],
      "text/latex": [
       "A data.frame: 12 × 3\n",
       "\\begin{tabular}{r|lll}\n",
       " entrezgene & go\\_id & hgnc\\_symbol\\\\\n",
       " <int> & <chr> & <chr>\\\\\n",
       "\\hline\n",
       "\t 8405 & GO:0005515 & SPOP\\\\\n",
       "\t 8405 & GO:0005634 & SPOP\\\\\n",
       "\t 8405 & GO:0016607 & SPOP\\\\\n",
       "\t 8405 & GO:0016567 & SPOP\\\\\n",
       "\t 8405 & GO:0005737 & SPOP\\\\\n",
       "\t 8405 & GO:0031625 & SPOP\\\\\n",
       "\t 8405 & GO:0006511 & SPOP\\\\\n",
       "\t 8405 & GO:0005654 & SPOP\\\\\n",
       "\t 8405 & GO:0043161 & SPOP\\\\\n",
       "\t 8405 & GO:0031463 & SPOP\\\\\n",
       "\t 8405 & GO:0030162 & SPOP\\\\\n",
       "\t 8405 &            & SPOP\\\\\n",
       "\\end{tabular}\n"
      ],
      "text/markdown": [
       "\n",
       "A data.frame: 12 × 3\n",
       "\n",
       "| entrezgene &lt;int&gt; | go_id &lt;chr&gt; | hgnc_symbol &lt;chr&gt; |\n",
       "|---|---|---|\n",
       "| 8405 | GO:0005515 | SPOP |\n",
       "| 8405 | GO:0005634 | SPOP |\n",
       "| 8405 | GO:0016607 | SPOP |\n",
       "| 8405 | GO:0016567 | SPOP |\n",
       "| 8405 | GO:0005737 | SPOP |\n",
       "| 8405 | GO:0031625 | SPOP |\n",
       "| 8405 | GO:0006511 | SPOP |\n",
       "| 8405 | GO:0005654 | SPOP |\n",
       "| 8405 | GO:0043161 | SPOP |\n",
       "| 8405 | GO:0031463 | SPOP |\n",
       "| 8405 | GO:0030162 | SPOP |\n",
       "| 8405 | <!----> | SPOP |\n",
       "\n"
      ],
      "text/plain": [
       "   entrezgene go_id      hgnc_symbol\n",
       "1  8405       GO:0005515 SPOP       \n",
       "2  8405       GO:0005634 SPOP       \n",
       "3  8405       GO:0016607 SPOP       \n",
       "4  8405       GO:0016567 SPOP       \n",
       "5  8405       GO:0005737 SPOP       \n",
       "6  8405       GO:0031625 SPOP       \n",
       "7  8405       GO:0006511 SPOP       \n",
       "8  8405       GO:0005654 SPOP       \n",
       "9  8405       GO:0043161 SPOP       \n",
       "10 8405       GO:0031463 SPOP       \n",
       "11 8405       GO:0030162 SPOP       \n",
       "12 8405                  SPOP       "
      ]
     },
     "metadata": {},
     "output_type": "display_data"
    },
    {
     "data": {
      "text/html": [
       "<ol class=list-inline>\n",
       "\t<li>'GO:0005515'</li>\n",
       "\t<li>'GO:0005634'</li>\n",
       "\t<li>'GO:0016607'</li>\n",
       "\t<li>'GO:0016567'</li>\n",
       "\t<li>'GO:0005737'</li>\n",
       "\t<li>'GO:0031625'</li>\n",
       "\t<li>'GO:0006511'</li>\n",
       "\t<li>'GO:0005654'</li>\n",
       "\t<li>'GO:0043161'</li>\n",
       "\t<li>'GO:0031463'</li>\n",
       "\t<li>'GO:0030162'</li>\n",
       "\t<li>''</li>\n",
       "</ol>\n"
      ],
      "text/latex": [
       "\\begin{enumerate*}\n",
       "\\item 'GO:0005515'\n",
       "\\item 'GO:0005634'\n",
       "\\item 'GO:0016607'\n",
       "\\item 'GO:0016567'\n",
       "\\item 'GO:0005737'\n",
       "\\item 'GO:0031625'\n",
       "\\item 'GO:0006511'\n",
       "\\item 'GO:0005654'\n",
       "\\item 'GO:0043161'\n",
       "\\item 'GO:0031463'\n",
       "\\item 'GO:0030162'\n",
       "\\item ''\n",
       "\\end{enumerate*}\n"
      ],
      "text/markdown": [
       "1. 'GO:0005515'\n",
       "2. 'GO:0005634'\n",
       "3. 'GO:0016607'\n",
       "4. 'GO:0016567'\n",
       "5. 'GO:0005737'\n",
       "6. 'GO:0031625'\n",
       "7. 'GO:0006511'\n",
       "8. 'GO:0005654'\n",
       "9. 'GO:0043161'\n",
       "10. 'GO:0031463'\n",
       "11. 'GO:0030162'\n",
       "12. ''\n",
       "\n",
       "\n"
      ],
      "text/plain": [
       " [1] \"GO:0005515\" \"GO:0005634\" \"GO:0016607\" \"GO:0016567\" \"GO:0005737\"\n",
       " [6] \"GO:0031625\" \"GO:0006511\" \"GO:0005654\" \"GO:0043161\" \"GO:0031463\"\n",
       "[11] \"GO:0030162\" \"\"          "
      ]
     },
     "metadata": {},
     "output_type": "display_data"
    }
   ],
   "source": [
    "library(biomaRt)\n",
    "\n",
    "# Selecting a BioMart database and dataset\n",
    "mart <- useMart(biomart = \"ensembl\", dataset = \"hsapiens_gene_ensembl\")\n",
    "mart\n",
    "\n",
    "# Annotate a set of EntrezGene IDs with GO annotation\n",
    "entrez = c(\"8405\")\n",
    "goids = getBM(attributes = c('entrezgene', 'go_id', 'hgnc_symbol'), \n",
    "              filters = 'entrezgene', \n",
    "              values = entrez, \n",
    "              mart = mart)\n",
    "goids\n",
    "goids$go_id"
   ]
  },
  {
   "cell_type": "code",
   "execution_count": null,
   "metadata": {},
   "outputs": [],
   "source": [
    "library(GO.db)\n",
    "# get definition and other information \n",
    "Definition(goids$go_id)\n",
    "Term(goids$go_id)\n",
    "Ontology(goids$go_id)"
   ]
  }
 ],
 "metadata": {
  "kernelspec": {
   "display_name": "R 3.6.0",
   "language": "R",
   "name": "ir353"
  },
  "language_info": {
   "codemirror_mode": "r",
   "file_extension": ".r",
   "mimetype": "text/x-r-source",
   "name": "R",
   "pygments_lexer": "r",
   "version": "3.6.0"
  }
 },
 "nbformat": 4,
 "nbformat_minor": 2
}
